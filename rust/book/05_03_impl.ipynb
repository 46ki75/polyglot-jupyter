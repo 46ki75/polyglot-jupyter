{
 "cells": [
  {
   "cell_type": "markdown",
   "metadata": {},
   "source": [
    "# メソッド\n",
    "\n",
    "Rust には他の OOP のように構造体にメソッドを追加する機能があります。第一引数に `&self` を使用することで静的メソッドを実装できます。\n"
   ]
  },
  {
   "cell_type": "code",
   "execution_count": 2,
   "metadata": {},
   "outputs": [
    {
     "name": "stdout",
     "output_type": "stream",
     "text": [
      "name: Blanc\n",
      "mail: blanc@46ki75.com\n"
     ]
    }
   ],
   "source": [
    "struct User {\n",
    "    name: String,\n",
    "    mail: String\n",
    "}\n",
    "\n",
    "impl User {\n",
    "    fn show_info(&self) {\n",
    "        println!(\"name: {}\",&self.name);\n",
    "        println!(\"mail: {}\",&self.mail);\n",
    "    }\n",
    "}\n",
    "\n",
    "let user = User {\n",
    "    name: \"Blanc\".to_string(),\n",
    "    mail: \"blanc@46ki75.com\".to_string()\n",
    "};\n",
    "\n",
    "user.show_info();"
   ]
  },
  {
   "cell_type": "markdown",
   "metadata": {},
   "source": [
    "第一引数に `&self` をとらないことで静的メソッドのような振る舞いをすることもできます。\n"
   ]
  },
  {
   "cell_type": "code",
   "execution_count": 5,
   "metadata": {},
   "outputs": [
    {
     "name": "stdout",
     "output_type": "stream",
     "text": [
      "name: Blanc\n",
      "mail: blanc@46ki75.com\n"
     ]
    }
   ],
   "source": [
    "struct User {\n",
    "    name: String,\n",
    "    mail: String\n",
    "}\n",
    "\n",
    "impl User {\n",
    "\n",
    "    fn new<S: AsRef<str>,M: AsRef<str>>(name: S,mail: M) -> Self {\n",
    "        Self {\n",
    "            name: name.as_ref().to_string(),\n",
    "            mail: mail.as_ref().to_string()\n",
    "        }\n",
    "    }\n",
    "\n",
    "    fn show_info(&self) {\n",
    "        println!(\"name: {}\",&self.name);\n",
    "        println!(\"mail: {}\",&self.mail);\n",
    "    }\n",
    "}\n",
    "\n",
    "let user = User::new(\"Blanc\",\"blanc@46ki75.com\");\n",
    "\n",
    "user.show_info();"
   ]
  }
 ],
 "metadata": {
  "kernelspec": {
   "display_name": "Rust",
   "language": "rust",
   "name": "rust"
  },
  "language_info": {
   "codemirror_mode": "rust",
   "file_extension": ".rs",
   "mimetype": "text/rust",
   "name": "rust",
   "pygment_lexer": "rust",
   "version": ""
  }
 },
 "nbformat": 4,
 "nbformat_minor": 2
}
