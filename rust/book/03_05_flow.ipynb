{
 "cells": [
  {
   "cell_type": "markdown",
   "metadata": {},
   "source": [
    "# 制御フロー\n",
    "\n",
    "命令型プログラミングにおいて重要な条件分岐やループをサポートしています。\n"
   ]
  },
  {
   "cell_type": "markdown",
   "metadata": {},
   "source": [
    "## 条件分岐 if\n",
    "\n",
    "if 文によって条件分岐をさせることができます。\n",
    "\n",
    "評価される値は `bool` 型でないといけないことに注意してください。\n"
   ]
  },
  {
   "cell_type": "code",
   "execution_count": 11,
   "metadata": {
    "vscode": {
     "languageId": "rust"
    }
   },
   "outputs": [
    {
     "name": "stdout",
     "output_type": "stream",
     "text": [
      "number is 1\n"
     ]
    }
   ],
   "source": [
    "const NUMBER: u8 = 1;\n",
    "\n",
    "if NUMBER == 1 {\n",
    "    println!(\"number is 1\");\n",
    "} else if NUMBER == 2 {\n",
    "    println!(\"number is 2\");\n",
    "} else {\n",
    "    println!(\"number is other than 1,2\");\n",
    "};"
   ]
  },
  {
   "cell_type": "markdown",
   "metadata": {},
   "source": [
    "インラインで if 文を使用することもできます。\n"
   ]
  },
  {
   "cell_type": "code",
   "execution_count": 10,
   "metadata": {
    "vscode": {
     "languageId": "rust"
    }
   },
   "outputs": [
    {
     "name": "stdout",
     "output_type": "stream",
     "text": [
      "1\n"
     ]
    }
   ],
   "source": [
    "const FLAG: bool = true;\n",
    "\n",
    "println!(\"{}\", if FLAG { 1 } else { 0 });"
   ]
  },
  {
   "cell_type": "markdown",
   "metadata": {},
   "source": [
    "## ループ処理\n",
    "\n",
    "Rust ではループ処理に `loop` と `for` があります。\n",
    "\n",
    "`loop` では明示的に処理を停止するまで実行します。\n"
   ]
  },
  {
   "cell_type": "code",
   "execution_count": 15,
   "metadata": {
    "vscode": {
     "languageId": "rust"
    }
   },
   "outputs": [
    {
     "name": "stdout",
     "output_type": "stream",
     "text": [
      "0\n",
      "1\n",
      "2\n",
      "3\n",
      "4\n",
      "5\n",
      "6\n",
      "7\n",
      "8\n",
      "9\n"
     ]
    }
   ],
   "source": [
    "let mut count = 0;\n",
    "\n",
    "loop {\n",
    "    if count < 10 {\n",
    "        println!(\"{}\",count);\n",
    "    } else {\n",
    "        break;\n",
    "    };\n",
    "    count += 1;\n",
    "};"
   ]
  },
  {
   "cell_type": "markdown",
   "metadata": {},
   "source": [
    "次のようにループにラベルを追加して `break` するループを指定することもできます。\n"
   ]
  },
  {
   "cell_type": "code",
   "execution_count": 18,
   "metadata": {
    "vscode": {
     "languageId": "rust"
    }
   },
   "outputs": [
    {
     "name": "stdout",
     "output_type": "stream",
     "text": [
      "count = 0\n",
      "remaining = 10\n",
      "remaining = 9\n",
      "count = 1\n",
      "remaining = 10\n",
      "remaining = 9\n",
      "count = 2\n",
      "remaining = 10\n",
      "End count = 2\n"
     ]
    }
   ],
   "source": [
    "let mut count = 0;\n",
    "'counting_up: loop {\n",
    "    println!(\"count = {}\", count);\n",
    "    let mut remaining = 10;\n",
    "\n",
    "    loop {\n",
    "        println!(\"remaining = {}\", remaining);\n",
    "        if remaining == 9 {\n",
    "            break;\n",
    "        }\n",
    "        if count == 2 {\n",
    "            break 'counting_up;\n",
    "        }\n",
    "        remaining -= 1;\n",
    "    }\n",
    "\n",
    "    count += 1;\n",
    "}\n",
    "println!(\"End count = {}\", count);\n"
   ]
  },
  {
   "cell_type": "markdown",
   "metadata": {},
   "source": [
    "`while` を使ったループも行えます。条件が `false` になった時に `break` を呼び出します。\n"
   ]
  },
  {
   "cell_type": "code",
   "execution_count": 20,
   "metadata": {
    "vscode": {
     "languageId": "rust"
    }
   },
   "outputs": [
    {
     "name": "stdout",
     "output_type": "stream",
     "text": [
      "3!\n",
      "2!\n",
      "1!\n",
      "LIFTOFF!!!\n"
     ]
    }
   ],
   "source": [
    "let mut number = 3;\n",
    "\n",
    "while number != 0 {\n",
    "    println!(\"{}!\", number);\n",
    "\n",
    "    number -= 1;\n",
    "}\n",
    "\n",
    "println!(\"LIFTOFF!!!\");"
   ]
  },
  {
   "cell_type": "markdown",
   "metadata": {},
   "source": [
    "for を使用したループもサポートしています。\n",
    "\n",
    "以下の `1..4` は一般的な数学の半開区間(視点を含み終点を含まない)ものと一致しており、中身は 1,2,3 です。\n"
   ]
  },
  {
   "cell_type": "code",
   "execution_count": 35,
   "metadata": {
    "vscode": {
     "languageId": "rust"
    }
   },
   "outputs": [
    {
     "name": "stdout",
     "output_type": "stream",
     "text": [
      "3!\n",
      "2!\n",
      "1!\n",
      "LIFTOFF!!!\n"
     ]
    }
   ],
   "source": [
    "for number in (1..4).rev() {\n",
    "    println!(\"{}!\", number);\n",
    "};\n",
    "println!(\"LIFTOFF!!!\");"
   ]
  },
  {
   "cell_type": "markdown",
   "metadata": {},
   "source": [
    "コレクションの中身を参照することもできます。\n"
   ]
  },
  {
   "cell_type": "code",
   "execution_count": 33,
   "metadata": {
    "vscode": {
     "languageId": "rust"
    }
   },
   "outputs": [
    {
     "name": "stdout",
     "output_type": "stream",
     "text": [
      "0\n",
      "1\n",
      "2\n",
      "3\n",
      "1..5\n"
     ]
    }
   ],
   "source": [
    "let arr = [0,1,2,3];\n",
    "for elem in arr {\n",
    "    println!(\"{}\",elem);\n",
    "};"
   ]
  }
 ],
 "metadata": {
  "kernelspec": {
   "display_name": "Rust",
   "language": "rust",
   "name": "rust"
  },
  "language_info": {
   "codemirror_mode": "rust",
   "file_extension": ".rs",
   "mimetype": "text/rust",
   "name": "Rust",
   "pygment_lexer": "rust",
   "version": ""
  }
 },
 "nbformat": 4,
 "nbformat_minor": 2
}
