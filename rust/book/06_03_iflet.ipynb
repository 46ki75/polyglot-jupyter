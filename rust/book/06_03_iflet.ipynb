{
 "cells": [
  {
   "cell_type": "markdown",
   "metadata": {},
   "source": [
    "# if let\n",
    "\n",
    "`if let` ステートメントはパターンマッチングを行いますが、より簡潔に記述することができます。\n",
    "\n",
    "```rust\n",
    "if let パターン = 式 {\n",
    "    // パターンにマッチした場合の処理\n",
    "} else {\n",
    "    // マッチしなかった場合の処理（オプション）\n",
    "}\n",
    "\n",
    "```\n"
   ]
  },
  {
   "cell_type": "code",
   "execution_count": 3,
   "metadata": {},
   "outputs": [
    {
     "name": "stdout",
     "output_type": "stream",
     "text": [
      "Got a value: 42\n"
     ]
    }
   ],
   "source": [
    "let value: Option<i32> = Some(42);\n",
    "\n",
    "if let Some(x) = value {\n",
    "    println!(\"Got a value: {}\", x);\n",
    "} else {\n",
    "    println!(\"Got nothing\");\n",
    "};\n"
   ]
  }
 ],
 "metadata": {
  "kernelspec": {
   "display_name": "Rust",
   "language": "rust",
   "name": "rust"
  },
  "language_info": {
   "codemirror_mode": "rust",
   "file_extension": ".rs",
   "mimetype": "text/rust",
   "name": "rust",
   "pygment_lexer": "rust",
   "version": ""
  }
 },
 "nbformat": 4,
 "nbformat_minor": 2
}
