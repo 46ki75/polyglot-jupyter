{
 "cells": [
  {
   "cell_type": "markdown",
   "metadata": {},
   "source": [
    "# データ型\n",
    "\n",
    "Rust は静的型付き言語です。コンパイル時にすべての変数の型が判明している必要があります。\n",
    "\n",
    "複数の型の推論が可能な場合には型注釈が必要です。\n",
    "\n",
    "以下はその例です:\n"
   ]
  },
  {
   "cell_type": "code",
   "execution_count": null,
   "metadata": {},
   "outputs": [
    {
     "ename": "Error",
     "evalue": "Couldn't automatically determine type of variable `guess`.\nPlease give it an explicit type.",
     "output_type": "error",
     "traceback": [
      "Couldn't automatically determine type of variable `guess`.\nPlease give it an explicit type."
     ]
    }
   ],
   "source": [
    "let guess = \"42\".parse().expect(\"Not a number!\");\n",
    "println!(\"{}\",guess);"
   ]
  },
  {
   "cell_type": "code",
   "execution_count": 7,
   "metadata": {},
   "outputs": [
    {
     "name": "stdout",
     "output_type": "stream",
     "text": [
      "42\n"
     ]
    }
   ],
   "source": [
    "let guess: i32 = \"42\".parse().expect(\"Not a number!\");\n",
    "println!(\"{}\",guess);"
   ]
  },
  {
   "cell_type": "markdown",
   "metadata": {},
   "source": [
    "`parse`メソッドで文字列\"42\"を i32 型の整数に変換しています。型注釈 i32 によって、parse メソッドがどの型に変換すればいいのかが明示されています。\n"
   ]
  },
  {
   "cell_type": "markdown",
   "metadata": {},
   "source": [
    "## スカラー型\n",
    "\n",
    "Rust には 4 つのスカラー型があります。スカラー型とは、複合型(配列、構造型、列挙型)でないものを指します。\n",
    "\n",
    "- 整数\n",
    "- 浮動小数点数\n",
    "- 論理値\n",
    "- 文字\n"
   ]
  },
  {
   "cell_type": "markdown",
   "metadata": {},
   "source": [
    "### 整数型\n",
    "\n",
    "整数型にはサイズと符号の有無でバリアント(汎用的なデータ型)が分かれています。\n",
    "\n",
    "`i`プレフィックスを持つものが符号付きで`u`プレフィックスを持つものが符号なしです。そのあとに続く数値がビット数を表しています。\n",
    "\n",
    "| 型    | 符号 | ビット数             | 最小値                                               | 最大値                                              |\n",
    "| ----- | ---- | -------------------- | ---------------------------------------------------- | --------------------------------------------------- |\n",
    "| i8    | あり | 8                    | -128                                                 | 127                                                 |\n",
    "| u8    | なし | 8                    | 0                                                    | 255                                                 |\n",
    "| i16   | あり | 16                   | -32,768                                              | 32,767                                              |\n",
    "| u16   | なし | 16                   | 0                                                    | 65,535                                              |\n",
    "| i32   | あり | 32                   | -2,147,483,648                                       | 2,147,483,647                                       |\n",
    "| u32   | なし | 32                   | 0                                                    | 4,294,967,295                                       |\n",
    "| i64   | あり | 64                   | -9,223,372,036,854,775,808                           | 9,223,372,036,854,775,807                           |\n",
    "| u64   | なし | 64                   | 0                                                    | 18,446,744,073,709,551,615                          |\n",
    "| i128  | あり | 128                  | -170,141,183,460,469,231,731,687,303,715,884,105,728 | 170,141,183,460,469,231,731,687,303,715,884,105,727 |\n",
    "| u128  | なし | 128                  | 0                                                    | 340,282,366,920,938,463,463,374,607,431,768,211,455 |\n",
    "| isize | あり | プラットフォーム依存 | プラットフォーム依存                                 | プラットフォーム依存                                |\n",
    "| usize | なし | プラットフォーム依存 | プラットフォーム依存                                 | プラットフォーム依存                                |\n",
    "\n",
    "注意: `isize` と `usize` のビット数と範囲は、プラットフォームに依存します。一般的には、32 ビットシステムでは 32 ビット、64 ビットシステムでは 64 ビットになります。\n",
    "\n",
    "`isize` は主に、システムレベルでのプログラミングや低レベルの操作において、メモリのインデックスやポインタ操作などで用いられます。通常のアプリケーション開発で `isize` を積極的に使うケースは少ないかもしれませんが、システムに密接に結びついた処理を行う際にはその特性が活かされます。\n",
    "\n",
    "`isize` がプラットフォーム依存であるため、移植性を重視する場合は、具体的なビット数を持つ整数型（`i32`, `i64` など）を使用する方が望ましい場合もあります。\n",
    "\n",
    "基本的に `i32` バリアントを使用するのが望ましいです。\n"
   ]
  },
  {
   "cell_type": "markdown",
   "metadata": {},
   "source": [
    "### 浮動小数点型\n",
    "\n",
    "Rust には浮動小数点型にも 2 つの型があります。基本的には`f64`バリアントを使用することが望ましいです。`f32`と殆ど同じスピードで高い精度があります。\n"
   ]
  },
  {
   "cell_type": "code",
   "execution_count": 15,
   "metadata": {},
   "outputs": [
    {
     "name": "stdout",
     "output_type": "stream",
     "text": [
      "0.00120004\n"
     ]
    }
   ],
   "source": [
    "let num: f64 = 3.0001 * 0.0004;\n",
    "println!(\"{}\",num);"
   ]
  },
  {
   "cell_type": "markdown",
   "metadata": {},
   "source": [
    "### 論理値型\n",
    "\n",
    "論理値型のバリアントは `bool` と表現されます。\n"
   ]
  },
  {
   "cell_type": "code",
   "execution_count": 8,
   "metadata": {},
   "outputs": [
    {
     "name": "stdout",
     "output_type": "stream",
     "text": [
      "true\n"
     ]
    }
   ],
   "source": [
    "let flag: bool = true;\n",
    "println!(\"{}\",flag);"
   ]
  },
  {
   "cell_type": "markdown",
   "metadata": {},
   "source": [
    "### 文字型\n",
    "\n",
    "Rust の文字列の型である `char` は 1 文字を表します。Unicode や utf-8 を扱えるため、日本語やや絵文字も使用できます。\n",
    "\n",
    "表記の仕方は文字列の `\"\"` と異なり、 `''` であることは注意してください。\n"
   ]
  },
  {
   "cell_type": "code",
   "execution_count": 17,
   "metadata": {},
   "outputs": [
    {
     "name": "stdout",
     "output_type": "stream",
     "text": [
      "卍\n"
     ]
    }
   ],
   "source": [
    "let charactor = '卍';\n",
    "println!(\"{}\",charactor);"
   ]
  }
 ],
 "metadata": {
  "kernelspec": {
   "display_name": "Rust",
   "language": "rust",
   "name": "rust"
  },
  "language_info": {
   "codemirror_mode": "rust",
   "file_extension": ".rs",
   "mimetype": "text/rust",
   "name": "rust",
   "pygment_lexer": "rust",
   "version": ""
  }
 },
 "nbformat": 4,
 "nbformat_minor": 2
}
