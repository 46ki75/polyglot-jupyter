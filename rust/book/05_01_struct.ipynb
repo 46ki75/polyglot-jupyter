{
 "cells": [
  {
   "cell_type": "code",
   "execution_count": null,
   "metadata": {},
   "outputs": [],
   "source": []
  },
  {
   "cell_type": "markdown",
   "metadata": {},
   "source": [
    "# 構造体\n",
    "\n",
    "構造体はタプルと似ていますが、各データ型には名前をつけるのでデータ型の意味がより明確になります。\n",
    "\n",
    "一時的に構造的なデータを扱うときはタプル、再利用可能にする場合は構造体といった使い分けが多いです。(TypeScript のプレーンオブジェクトとクラスの使い分けのようなものです。)\n"
   ]
  },
  {
   "cell_type": "code",
   "execution_count": 4,
   "metadata": {},
   "outputs": [
    {
     "name": "stdout",
     "output_type": "stream",
     "text": [
      "user's name is Blanc\n"
     ]
    }
   ],
   "source": [
    "struct User {\n",
    "    name: String,\n",
    "    mail: String\n",
    "}\n",
    "\n",
    "let user = User {\n",
    "    name: \"Blanc\".to_string(),\n",
    "    mail: \"blanc@46ki75.com\".to_string()\n",
    "};\n",
    "\n",
    "println!(\"user's name is {}\",user.name);"
   ]
  },
  {
   "cell_type": "markdown",
   "metadata": {},
   "source": [
    "`Debug` トレイトを実装することで出力することもできます。\n"
   ]
  },
  {
   "cell_type": "code",
   "execution_count": 13,
   "metadata": {},
   "outputs": [
    {
     "name": "stdout",
     "output_type": "stream",
     "text": [
      "User { name: \"Blanc\", mail: \"blanc@46ki75.com\" }\n"
     ]
    }
   ],
   "source": [
    "#[derive(Debug)]\n",
    "struct User {\n",
    "    name: String,\n",
    "    mail: String\n",
    "}\n",
    "\n",
    "let user = User {\n",
    "    name: \"Blanc\".to_string(),\n",
    "    mail: \"blanc@46ki75.com\".to_string()\n",
    "};\n",
    "\n",
    "println!(\"{:?}\",user);"
   ]
  },
  {
   "cell_type": "markdown",
   "metadata": {},
   "source": [
    "## アクセス修飾子\n",
    "\n",
    "他の OOP 言語と同じように `struct` にはアクセス修飾子があります。このようにすることで OOP のカプセル化などの役割を果たすことができます。\n",
    "\n",
    "デフォルトの修飾子は `private` ですが、これは**同じファイル内ではアクセスが可能**です。他のファイルからアクセスする場合は `pub` キーワードが必要です。\n"
   ]
  },
  {
   "cell_type": "markdown",
   "metadata": {},
   "source": []
  },
  {
   "cell_type": "code",
   "execution_count": 14,
   "metadata": {},
   "outputs": [],
   "source": [
    "pub struct User {\n",
    "    pub name: String,\n",
    "    pub mail: String\n",
    "}"
   ]
  },
  {
   "cell_type": "markdown",
   "metadata": {},
   "source": [
    "## 型ジェネリクス\n",
    "\n",
    "他の言語のように柔軟に型を指定できます。型推論が強力ですが、明示的に型を指定することもできます。\n"
   ]
  },
  {
   "cell_type": "code",
   "execution_count": 16,
   "metadata": {},
   "outputs": [],
   "source": [
    "struct Point<T> {\n",
    "    x: T,\n",
    "    y: T,\n",
    "}\n",
    "\n",
    "let integer_point = Point { x: 1, y: 2 };  // Tはi32と推論される\n",
    "let float_point = Point { x: 1.0, y: 2.0 };  // Tはf64と推論される\n",
    "\n",
    "let integer_point: Point<i32> = Point { x: 1, y: 2 };\n",
    "let float_point: Point<f64> = Point { x: 1.0, y: 2.0 };\n"
   ]
  }
 ],
 "metadata": {
  "kernelspec": {
   "display_name": "Rust",
   "language": "rust",
   "name": "rust"
  },
  "language_info": {
   "codemirror_mode": "rust",
   "file_extension": ".rs",
   "mimetype": "text/rust",
   "name": "rust",
   "pygment_lexer": "rust",
   "version": ""
  }
 },
 "nbformat": 4,
 "nbformat_minor": 2
}
