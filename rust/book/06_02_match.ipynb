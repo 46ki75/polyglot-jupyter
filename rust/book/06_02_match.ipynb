{
 "cells": [
  {
   "cell_type": "markdown",
   "metadata": {},
   "source": [
    "# パターンマッチング\n",
    "\n",
    "Rust には `match` という非常に強力な制御フロー構造の演算子があります。`match` は渡された値の型によって制御を行います。\n",
    "\n",
    "厳密には数値や文字列リテラルなどにもマッチすることができ、非常に直感的で柔軟です。\n"
   ]
  },
  {
   "cell_type": "code",
   "execution_count": 3,
   "metadata": {
    "vscode": {
     "languageId": "rust"
    }
   },
   "outputs": [
    {
     "name": "stdout",
     "output_type": "stream",
     "text": [
      "Event started\n"
     ]
    }
   ],
   "source": [
    "enum Event {\n",
    "    Start,\n",
    "    Stop,\n",
    "    Pause,\n",
    "}\n",
    "\n",
    "let current_event = Event::Start;\n",
    "\n",
    "match current_event {\n",
    "    Event::Start => println!(\"Event started\"),\n",
    "    Event::Stop => println!(\"Event stopped\"),\n",
    "    Event::Pause => println!(\"Event paused\"),\n",
    "};"
   ]
  },
  {
   "cell_type": "markdown",
   "metadata": {},
   "source": [
    "この制御フローはしばしばエラーハンドリングに使用されます。多くの関数は `Result` 型の返り値を返すことが多いです。\n"
   ]
  },
  {
   "cell_type": "code",
   "execution_count": 5,
   "metadata": {
    "vscode": {
     "languageId": "rust"
    }
   },
   "outputs": [
    {
     "name": "stdout",
     "output_type": "stream",
     "text": [
      "Success: 200\n"
     ]
    }
   ],
   "source": [
    "let result: Result<i32, String> = Ok(200);\n",
    "\n",
    "match result {\n",
    "    Ok(code) => println!(\"Success: {}\", code),\n",
    "    Err(err) => println!(\"Error: {}\", err),\n",
    "};"
   ]
  },
  {
   "cell_type": "markdown",
   "metadata": {},
   "source": [
    "ブロックを使用して複数の処理を記述することも可能です。\n"
   ]
  },
  {
   "cell_type": "code",
   "execution_count": 7,
   "metadata": {
    "vscode": {
     "languageId": "rust"
    }
   },
   "outputs": [
    {
     "name": "stdout",
     "output_type": "stream",
     "text": [
      "Starting...\n",
      "Started\n"
     ]
    }
   ],
   "source": [
    "enum Command {\n",
    "    Start,\n",
    "    Stop,\n",
    "    Pause,\n",
    "}\n",
    "\n",
    "let current_command = Command::Start;\n",
    "\n",
    "match current_command {\n",
    "    Command::Start => {\n",
    "        println!(\"Starting...\");\n",
    "        // 他の処理\n",
    "        println!(\"Started\");\n",
    "    },\n",
    "    Command::Stop => {\n",
    "        println!(\"Stopping...\");\n",
    "        // 他の処理\n",
    "        println!(\"Stopped\");\n",
    "    },\n",
    "    Command::Pause => {\n",
    "        println!(\"Pausing...\");\n",
    "        // 他の処理\n",
    "        println!(\"Paused\");\n",
    "    },\n",
    "};\n",
    "\n"
   ]
  },
  {
   "cell_type": "markdown",
   "metadata": {},
   "source": [
    "`match` で型の種類が多いときに、すべての型を記述するのが難しい場合があります。この場合は `_` プレースホルダを使用します。\n",
    "\n",
    "注意点として、`match` は網羅的でなければならないため、すべてのケースを明示的に処理するか、プレースホルダで未処理のケースを補足する必要があります。このようにして、プレースホルダは `match` の網羅性を保証する役割も果たします。\n"
   ]
  },
  {
   "cell_type": "code",
   "execution_count": 9,
   "metadata": {
    "vscode": {
     "languageId": "rust"
    }
   },
   "outputs": [
    {
     "name": "stdout",
     "output_type": "stream",
     "text": [
      "Other\n"
     ]
    }
   ],
   "source": [
    "let x = 5;\n",
    "\n",
    "match x {\n",
    "    1 => println!(\"One\"),\n",
    "    2 => println!(\"Two\"),\n",
    "    3 => println!(\"Three\"),\n",
    "    _ => println!(\"Other\"),\n",
    "};\n"
   ]
  },
  {
   "cell_type": "markdown",
   "metadata": {},
   "source": [
    "以下のような使い方も考えられます。\n"
   ]
  },
  {
   "cell_type": "code",
   "execution_count": 11,
   "metadata": {
    "vscode": {
     "languageId": "rust"
    }
   },
   "outputs": [
    {
     "name": "stdout",
     "output_type": "stream",
     "text": [
      "Five to Nine\n"
     ]
    }
   ],
   "source": [
    "let num = 5;\n",
    "\n",
    "match num {\n",
    "    0 => println!(\"Zero\"),\n",
    "    1 => println!(\"One\"),\n",
    "    2 => println!(\"Two\"),\n",
    "    3 | 4 => println!(\"Three or Four\"),  // 複数の値にマッチ\n",
    "    5..=9 => println!(\"Five to Nine\"),  // 範囲にマッチ\n",
    "    _ => println!(\"Other\"),  // それ以外\n",
    "};"
   ]
  },
  {
   "cell_type": "markdown",
   "metadata": {},
   "source": [
    "`Option` 型を処理する場合は以下のようになります。非常によく利用される典型的なパターンです。\n"
   ]
  },
  {
   "cell_type": "code",
   "execution_count": 13,
   "metadata": {
    "vscode": {
     "languageId": "rust"
    }
   },
   "outputs": [
    {
     "name": "stdout",
     "output_type": "stream",
     "text": [
      "Got a value: 42\n"
     ]
    }
   ],
   "source": [
    "let value: Option<i32> = Some(42);\n",
    "\n",
    "match value {\n",
    "    Some(x) => println!(\"Got a value: {}\", x),\n",
    "    None => println!(\"Got nothing\"),\n",
    "};"
   ]
  }
 ],
 "metadata": {
  "kernelspec": {
   "display_name": "Rust",
   "language": "rust",
   "name": "rust"
  },
  "language_info": {
   "codemirror_mode": "rust",
   "file_extension": ".rs",
   "mimetype": "text/rust",
   "name": "Rust",
   "pygment_lexer": "rust",
   "version": ""
  }
 },
 "nbformat": 4,
 "nbformat_minor": 2
}
