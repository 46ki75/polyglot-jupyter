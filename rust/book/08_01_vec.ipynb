{
 "cells": [
  {
   "cell_type": "markdown",
   "metadata": {},
   "source": [
    "# ベクタ\n",
    "\n",
    "ベクタは可変長のコレクションクラスです。ベクタの要素には同じ型しか保持できません。\n"
   ]
  },
  {
   "cell_type": "markdown",
   "metadata": {},
   "source": [
    "ベクタは以下のように `Vec` の関連関数から作成できます。この時、ベクタの中身について型推論が利用できないので明示的に型注釈を記載することに気を付けてください。\n"
   ]
  },
  {
   "cell_type": "code",
   "execution_count": 3,
   "metadata": {},
   "outputs": [],
   "source": [
    "let v: Vec<i32> = Vec::new();"
   ]
  },
  {
   "cell_type": "markdown",
   "metadata": {},
   "source": [
    "`vec!` マクロを使用して初期化することもできます。この場合、値をすでに入れているので型推論が利用できます。\n"
   ]
  },
  {
   "cell_type": "code",
   "execution_count": 5,
   "metadata": {},
   "outputs": [],
   "source": [
    "let v = vec![1,5];"
   ]
  },
  {
   "cell_type": "markdown",
   "metadata": {},
   "source": [
    "## 要素へのアクセス\n",
    "\n",
    "要素にアクセスするには `[]` インデックス演算子を利用したものとベクタのメソッドである `get`を利用する方法があります。\n"
   ]
  },
  {
   "cell_type": "markdown",
   "metadata": {},
   "source": [
    "### インデックス演算子\n",
    "\n",
    "インデックス演算子を用いたアクセス方法は簡単です。ただし、存在しないインデックスにアクセスするとパニックを起こします。\n"
   ]
  },
  {
   "cell_type": "code",
   "execution_count": 2,
   "metadata": {},
   "outputs": [
    {
     "name": "stdout",
     "output_type": "stream",
     "text": [
      "1\n"
     ]
    }
   ],
   "source": [
    "let v = vec![1,5];\n",
    "println!(\"{}\",v[0]);"
   ]
  },
  {
   "cell_type": "markdown",
   "metadata": {},
   "source": [
    "### get メソッド\n",
    "\n",
    "こちらは返り値として `Option<T>` 型の値を返却します。ハンドリングがしやすいですが、コードが冗長になるかもしれません。\n"
   ]
  },
  {
   "cell_type": "code",
   "execution_count": 6,
   "metadata": {},
   "outputs": [
    {
     "name": "stdout",
     "output_type": "stream",
     "text": [
      "1\n"
     ]
    }
   ],
   "source": [
    "let v = vec![1,5];\n",
    "match v.get(0) {\n",
    "    Some(x) => println!(\"{}\",x),\n",
    "    None => println!(\"No such index.\"),\n",
    "};"
   ]
  },
  {
   "cell_type": "markdown",
   "metadata": {},
   "source": [
    "## ベクタの更新\n",
    "\n",
    "ベクタには様々なメソッドが用意されています。内容を変更する場合は可変にするための `mut` を忘れないでください。\n"
   ]
  },
  {
   "cell_type": "code",
   "execution_count": 13,
   "metadata": {},
   "outputs": [
    {
     "name": "stdout",
     "output_type": "stream",
     "text": [
      "[1, 5, 5, 5]\n"
     ]
    }
   ],
   "source": [
    "let mut v = vec![1,5];\n",
    "v.push(5);\n",
    "v.push(5);\n",
    "println!(\"{:?}\",v);"
   ]
  },
  {
   "cell_type": "markdown",
   "metadata": {},
   "source": [
    "### 要素の変更\n",
    "\n",
    "インデックス演算子を使用する場合は、確実に存在するインデックスにアクセスする場合のみにしてください。存在しない要素だとパニックを起こします。\n"
   ]
  },
  {
   "cell_type": "code",
   "execution_count": 13,
   "metadata": {},
   "outputs": [
    {
     "name": "stdout",
     "output_type": "stream",
     "text": [
      "[10, 2, 3]\n"
     ]
    }
   ],
   "source": [
    "let mut v = vec![1, 2, 3];\n",
    "v[0] = 10;\n",
    "println!(\"{:?}\",v);"
   ]
  },
  {
   "cell_type": "markdown",
   "metadata": {},
   "source": [
    "`get_mut` メソッドを使用する場合、このメソッドは参照を返すので `*` (でリファレンス演算子)が必要です。\n",
    "これにより参照やポインタから実際の値にアクセスできます。\n"
   ]
  },
  {
   "cell_type": "code",
   "execution_count": 14,
   "metadata": {},
   "outputs": [
    {
     "name": "stdout",
     "output_type": "stream",
     "text": [
      "[10, 2, 3]\n"
     ]
    }
   ],
   "source": [
    "let mut v = vec![1, 2, 3];\n",
    "if let Some(x) = v.get_mut(0) {\n",
    "    *x = 10;\n",
    "}\n",
    "println!(\"{:?}\",v);"
   ]
  },
  {
   "cell_type": "markdown",
   "metadata": {},
   "source": [
    "`iter_mut` でイテレーションを行うこともできます。こちらも参照を返します。\n"
   ]
  },
  {
   "cell_type": "code",
   "execution_count": 16,
   "metadata": {},
   "outputs": [
    {
     "name": "stdout",
     "output_type": "stream",
     "text": [
      "[3, 4, 5]\n"
     ]
    }
   ],
   "source": [
    "let mut v = vec![1, 2, 3];\n",
    "for x in v.iter_mut() {\n",
    "    *x += 2;\n",
    "}\n",
    "println!(\"{:?}\",v);"
   ]
  }
 ],
 "metadata": {
  "kernelspec": {
   "display_name": "Rust",
   "language": "rust",
   "name": "rust"
  },
  "language_info": {
   "codemirror_mode": "rust",
   "file_extension": ".rs",
   "mimetype": "text/rust",
   "name": "rust",
   "pygment_lexer": "rust",
   "version": ""
  }
 },
 "nbformat": 4,
 "nbformat_minor": 2
}
