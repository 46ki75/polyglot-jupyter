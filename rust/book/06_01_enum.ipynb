{
 "cells": [
  {
   "cell_type": "markdown",
   "metadata": {},
   "source": [
    "# 列挙型\n",
    "\n",
    "他の言語にもよくある列挙型の使い方です。\n"
   ]
  },
  {
   "cell_type": "code",
   "execution_count": 8,
   "metadata": {},
   "outputs": [],
   "source": [
    "enum Difficulty {\n",
    "    Basic,\n",
    "    Advance,\n",
    "    Expert,\n",
    "    Master\n",
    "}\n",
    "\n",
    "let difficulty = Difficulty::Basic;"
   ]
  }
 ],
 "metadata": {
  "kernelspec": {
   "display_name": "Rust",
   "language": "rust",
   "name": "rust"
  },
  "language_info": {
   "codemirror_mode": "rust",
   "file_extension": ".rs",
   "mimetype": "text/rust",
   "name": "rust",
   "pygment_lexer": "rust",
   "version": ""
  }
 },
 "nbformat": 4,
 "nbformat_minor": 2
}
